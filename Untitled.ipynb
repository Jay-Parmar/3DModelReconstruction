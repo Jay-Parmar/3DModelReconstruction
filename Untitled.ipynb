{
 "cells": [
  {
   "cell_type": "code",
   "execution_count": 4,
   "id": "49022091-ed8a-49a3-9aff-53d6a086e717",
   "metadata": {},
   "outputs": [],
   "source": [
    "import pandas as pd"
   ]
  },
  {
   "cell_type": "code",
   "execution_count": 7,
   "id": "0932bc9e-fc88-4079-a73e-aa51675383c3",
   "metadata": {},
   "outputs": [],
   "source": [
    "df = pd.read_excel('./Imgs/YO.xlsx')"
   ]
  },
  {
   "cell_type": "code",
   "execution_count": 10,
   "id": "763088de-2da5-4635-b5ce-4734740d2bd6",
   "metadata": {},
   "outputs": [
    {
     "data": {
      "text/plain": [
       "<pandas.core.groupby.generic.DataFrameGroupBy object at 0x000001AB430DB6A0>"
      ]
     },
     "execution_count": 10,
     "metadata": {},
     "output_type": "execute_result"
    }
   ],
   "source": [
    "df.groupby(\"Moxa IP\")"
   ]
  },
  {
   "cell_type": "code",
   "execution_count": 12,
   "id": "9f6cc13f-d25c-40c2-8b66-2b10d5b9a08d",
   "metadata": {},
   "outputs": [],
   "source": [
    "grouped = df.groupby(\"Moxa IP\")"
   ]
  },
  {
   "cell_type": "code",
   "execution_count": 15,
   "id": "5ff4f5ce-e5a9-486b-b67f-c2ec5e957950",
   "metadata": {},
   "outputs": [],
   "source": [
    "grouped = df.groupby('Moxa IP')['COM Port'].apply(list).reset_index(name='grouped com ports')\n"
   ]
  },
  {
   "cell_type": "code",
   "execution_count": 16,
   "id": "2be026b6-27dd-4c47-ae1e-356ede13b451",
   "metadata": {},
   "outputs": [
    {
     "data": {
      "text/html": [
       "<div>\n",
       "<style scoped>\n",
       "    .dataframe tbody tr th:only-of-type {\n",
       "        vertical-align: middle;\n",
       "    }\n",
       "\n",
       "    .dataframe tbody tr th {\n",
       "        vertical-align: top;\n",
       "    }\n",
       "\n",
       "    .dataframe thead th {\n",
       "        text-align: right;\n",
       "    }\n",
       "</style>\n",
       "<table border=\"1\" class=\"dataframe\">\n",
       "  <thead>\n",
       "    <tr style=\"text-align: right;\">\n",
       "      <th></th>\n",
       "      <th>Moxa IP</th>\n",
       "      <th>grouped com ports</th>\n",
       "    </tr>\n",
       "  </thead>\n",
       "  <tbody>\n",
       "    <tr>\n",
       "      <th>0</th>\n",
       "      <td>192.168.38.100</td>\n",
       "      <td>[COM123, COM122, COM121]</td>\n",
       "    </tr>\n",
       "    <tr>\n",
       "      <th>1</th>\n",
       "      <td>192.168.38.101</td>\n",
       "      <td>[COM126, COM125]</td>\n",
       "    </tr>\n",
       "    <tr>\n",
       "      <th>2</th>\n",
       "      <td>192.168.38.102</td>\n",
       "      <td>[COM131, COM130, COM129]</td>\n",
       "    </tr>\n",
       "    <tr>\n",
       "      <th>3</th>\n",
       "      <td>192.168.38.103</td>\n",
       "      <td>[COM1, COM133, COM134]</td>\n",
       "    </tr>\n",
       "    <tr>\n",
       "      <th>4</th>\n",
       "      <td>192.168.38.104</td>\n",
       "      <td>[COM138, COM137]</td>\n",
       "    </tr>\n",
       "  </tbody>\n",
       "</table>\n",
       "</div>"
      ],
      "text/plain": [
       "          Moxa IP         grouped com ports\n",
       "0  192.168.38.100  [COM123, COM122, COM121]\n",
       "1  192.168.38.101          [COM126, COM125]\n",
       "2  192.168.38.102  [COM131, COM130, COM129]\n",
       "3  192.168.38.103    [COM1, COM133, COM134]\n",
       "4  192.168.38.104          [COM138, COM137]"
      ]
     },
     "execution_count": 16,
     "metadata": {},
     "output_type": "execute_result"
    }
   ],
   "source": [
    "grouped.head()\n"
   ]
  },
  {
   "cell_type": "code",
   "execution_count": 18,
   "id": "6b1fa711-d52f-4789-8cd7-bab8e6fe2d33",
   "metadata": {},
   "outputs": [],
   "source": [
    "grouped.to_excel('./yoyo.xlsx')"
   ]
  }
 ],
 "metadata": {
  "kernelspec": {
   "display_name": "Python 3 (ipykernel)",
   "language": "python",
   "name": "python3"
  },
  "language_info": {
   "codemirror_mode": {
    "name": "ipython",
    "version": 3
   },
   "file_extension": ".py",
   "mimetype": "text/x-python",
   "name": "python",
   "nbconvert_exporter": "python",
   "pygments_lexer": "ipython3",
   "version": "3.8.19"
  }
 },
 "nbformat": 4,
 "nbformat_minor": 5
}
